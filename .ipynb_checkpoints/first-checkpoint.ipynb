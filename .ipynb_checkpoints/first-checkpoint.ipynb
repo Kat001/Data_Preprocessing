{
 "cells": [
  {
   "cell_type": "code",
   "execution_count": 48,
   "metadata": {},
   "outputs": [],
   "source": [
    "import pandas as pd\n",
    "import numpy as np\n",
    "import matplotlib.pyplot as plt\n",
    "\n",
    "df = pd.read_csv('Data_pre.csv')\n",
    "X = df.iloc[:,0:3].values  #all features....(list of lists)\n",
    "y = df.iloc[:,2:4].values   #Label......."
   ]
  },
  {
   "cell_type": "code",
   "execution_count": 65,
   "metadata": {},
   "outputs": [
    {
     "data": {
      "text/plain": [
       "array([[39.0, 144.0, 'UP'],\n",
       "       [47.0, 220.0, 'MP'],\n",
       "       [45.0, 157.66666666666666, 'Kerala'],\n",
       "       [47.0, 145.0, 'UP'],\n",
       "       [65.0, 162.0, 'MP'],\n",
       "       [52.77777777777778, 142.0, 'MP'],\n",
       "       [67.0, 170.0, 'Kerala'],\n",
       "       [42.0, 124.0, 'Rajasthan'],\n",
       "       [67.0, 158.0, 'MP'],\n",
       "       [56.0, 154.0, 'UP']], dtype=object)"
      ]
     },
     "execution_count": 65,
     "metadata": {},
     "output_type": "execute_result"
    }
   ],
   "source": [
    "\n",
    "from sklearn.impute import SimpleImputer \n",
    "imputer = SimpleImputer(missing_values=np.NaN,strategy='mean')\n",
    "imputer = imputer.fit(X[:,0:2])\n",
    "X[:,0:2] = imputer.fit_transform(X[:,0:2])\n"
   ]
  },
  {
   "cell_type": "code",
   "execution_count": 61,
   "metadata": {},
   "outputs": [
    {
     "data": {
      "text/plain": [
       "array([[39.0, 144.0, 'UP'],\n",
       "       [47.0, 220.0, 'MP'],\n",
       "       [45.0, 157.66666666666666, 'Kerala'],\n",
       "       [47.0, 145.0, 'UP'],\n",
       "       [65.0, 162.0, 'MP'],\n",
       "       [52.77777777777778, 142.0, 'MP'],\n",
       "       [67.0, 170.0, 'Kerala'],\n",
       "       [42.0, 124.0, 'Rajasthan'],\n",
       "       [67.0, 158.0, 'MP'],\n",
       "       [56.0, 154.0, 'UP']], dtype=object)"
      ]
     },
     "execution_count": 61,
     "metadata": {},
     "output_type": "execute_result"
    }
   ],
   "source": [
    "\n"
   ]
  },
  {
   "cell_type": "code",
   "execution_count": 67,
   "metadata": {},
   "outputs": [],
   "source": [
    "!jt -t oceans16 -tf merriserif -tfs 14 -nf ptsans -nfs 14"
   ]
  },
  {
   "cell_type": "code",
   "execution_count": null,
   "metadata": {},
   "outputs": [],
   "source": []
  },
  {
   "cell_type": "code",
   "execution_count": null,
   "metadata": {},
   "outputs": [],
   "source": []
  }
 ],
 "metadata": {
  "kernelspec": {
   "display_name": "Python 3",
   "language": "python",
   "name": "python3"
  },
  "language_info": {
   "codemirror_mode": {
    "name": "ipython",
    "version": 3
   },
   "file_extension": ".py",
   "mimetype": "text/x-python",
   "name": "python",
   "nbconvert_exporter": "python",
   "pygments_lexer": "ipython3",
   "version": "3.8.2"
  }
 },
 "nbformat": 4,
 "nbformat_minor": 4
}
